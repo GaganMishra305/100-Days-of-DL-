{
 "cells": [
  {
   "cell_type": "code",
   "execution_count": null,
   "metadata": {},
   "outputs": [],
   "source": [
    "\n",
    "# colab link: https://colab.research.google.com/drive/1ZHSFVq29kBIiKAnSS3kYl2QsGlIBxH-B?usp=sharing"
   ]
  }
 ],
 "metadata": {
  "language_info": {
   "name": "python"
  }
 },
 "nbformat": 4,
 "nbformat_minor": 2
}
