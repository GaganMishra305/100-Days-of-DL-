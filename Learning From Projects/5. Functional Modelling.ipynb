{
 "cells": [
  {
   "cell_type": "code",
   "execution_count": null,
   "metadata": {},
   "outputs": [],
   "source": [
    "# colab link: https://colab.research.google.com/drive/1UD-C5idz6nI10UzJ35OE7RoFMAdncUrN?usp=sharing"
   ]
  }
 ],
 "metadata": {
  "language_info": {
   "name": "python"
  }
 },
 "nbformat": 4,
 "nbformat_minor": 2
}
